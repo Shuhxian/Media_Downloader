{
 "cells": [
  {
   "cell_type": "code",
   "execution_count": 2,
   "id": "cf9b17c9",
   "metadata": {
    "collapsed": true
   },
   "outputs": [
    {
     "name": "stdout",
     "output_type": "stream",
     "text": [
      "Collecting pytube\n",
      "  Downloading pytube-12.1.3-py3-none-any.whl (57 kB)\n",
      "\u001b[2K     \u001b[38;2;114;156;31m━━━━━━━━━━━━━━━━━━━━━━━━━━━━━━━━━━━━━━━━\u001b[0m \u001b[32m57.2/57.2 KB\u001b[0m \u001b[31m1.8 MB/s\u001b[0m eta \u001b[36m0:00:00\u001b[0m\n",
      "\u001b[?25hInstalling collected packages: pytube\n",
      "Successfully installed pytube-12.1.3\n"
     ]
    }
   ],
   "source": [
    "!pip install pytube\n",
    "!pip install moviepy"
   ]
  },
  {
   "cell_type": "code",
   "execution_count": 13,
   "id": "d42ca83a",
   "metadata": {},
   "outputs": [
    {
     "name": "stdout",
     "output_type": "stream",
     "text": [
      "MoviePy - Writing audio in /home/user/Projects/test.mp3\n"
     ]
    },
    {
     "name": "stderr",
     "output_type": "stream",
     "text": [
      "                                                                                "
     ]
    },
    {
     "name": "stdout",
     "output_type": "stream",
     "text": [
      "MoviePy - Done.\n"
     ]
    },
    {
     "name": "stderr",
     "output_type": "stream",
     "text": [
      "\r"
     ]
    }
   ],
   "source": [
    "from pytube import YouTube\n",
    "import os\n",
    "from moviepy.editor import *\n",
    "import sys\n",
    "if len(sys.argv)<2:\n",
    "    print(\"Video link expected!\")\n",
    "    raise SystemExit(2)\n",
    "video_link=sys.argv[1]\n",
    "output=sys.argv[2] if len(sys.argv)==3 else 'test.mp3'\n",
    "yt = YouTube(video_link)\n",
    "yt.streams.filter(progressive=True, file_extension='mp4').order_by('resolution').asc().first().download(filename='test.mp4')\n",
    "video = VideoFileClip(os.getcwd()+'/test.mp4')\n",
    "video.audio.write_audiofile(os.getcwd()+\"/\"+output)\n",
    "os.remove(\"test.mp4\")"
   ]
  },
  {
   "cell_type": "code",
   "execution_count": null,
   "id": "d0797813",
   "metadata": {},
   "outputs": [],
   "source": []
  }
 ],
 "metadata": {
  "kernelspec": {
   "display_name": "Python 3 (ipykernel)",
   "language": "python",
   "name": "python3"
  },
  "language_info": {
   "codemirror_mode": {
    "name": "ipython",
    "version": 3
   },
   "file_extension": ".py",
   "mimetype": "text/x-python",
   "name": "python",
   "nbconvert_exporter": "python",
   "pygments_lexer": "ipython3",
   "version": "3.10.6"
  }
 },
 "nbformat": 4,
 "nbformat_minor": 5
}
